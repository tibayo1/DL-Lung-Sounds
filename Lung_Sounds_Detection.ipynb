{
  "nbformat": 4,
  "nbformat_minor": 0,
  "metadata": {
    "colab": {
      "name": "Lung-Sounds-Detection.ipynb",
      "provenance": [],
      "collapsed_sections": [],
      "toc_visible": true,
      "authorship_tag": "ABX9TyMM1Psan87ZdSEa60nWn7c/",
      "include_colab_link": true
    },
    "kernelspec": {
      "name": "python3",
      "display_name": "Python 3"
    },
    "accelerator": "GPU"
  },
  "cells": [
    {
      "cell_type": "markdown",
      "metadata": {
        "id": "view-in-github",
        "colab_type": "text"
      },
      "source": [
        "<a href=\"https://colab.research.google.com/github/tibayo1/DL-Lung-Sounds/blob/master/Lung_Sounds_Detection.ipynb\" target=\"_parent\"><img src=\"https://colab.research.google.com/assets/colab-badge.svg\" alt=\"Open In Colab\"/></a>"
      ]
    },
    {
      "cell_type": "markdown",
      "metadata": {
        "id": "wTtqMJ7oCVXV",
        "colab_type": "text"
      },
      "source": [
        "# Libraries Needed. "
      ]
    },
    {
      "cell_type": "code",
      "metadata": {
        "id": "Dx2Vl7ReyWWu",
        "colab_type": "code",
        "colab": {}
      },
      "source": [
        "import aidiagnostics_toolbox as aidt"
      ],
      "execution_count": 0,
      "outputs": []
    },
    {
      "cell_type": "code",
      "metadata": {
        "id": "CjyhrzyjEgvy",
        "colab_type": "code",
        "outputId": "5aca25a5-eef3-43f2-d253-12598ad383dd",
        "colab": {
          "base_uri": "https://localhost:8080/",
          "height": 68
        }
      },
      "source": [
        "pip install pysoundfile"
      ],
      "execution_count": 2,
      "outputs": [
        {
          "output_type": "stream",
          "text": [
            "Requirement already satisfied: pysoundfile in /usr/local/lib/python3.6/dist-packages (0.9.0.post1)\n",
            "Requirement already satisfied: cffi>=0.6 in /usr/local/lib/python3.6/dist-packages (from pysoundfile) (1.14.0)\n",
            "Requirement already satisfied: pycparser in /usr/local/lib/python3.6/dist-packages (from cffi>=0.6->pysoundfile) (2.20)\n"
          ],
          "name": "stdout"
        }
      ]
    },
    {
      "cell_type": "code",
      "metadata": {
        "id": "d38uk28ciBIn",
        "colab_type": "code",
        "colab": {}
      },
      "source": [
        "import os\n",
        "import matplotlib.pyplot as plt\n",
        "\n",
        "#for loading and visualizing audio files\n",
        "import librosa\n",
        "import librosa.display\n",
        "import pandas as pd\n",
        "import soundfile as sf\n",
        "import numpy as np\n",
        "\n",
        "#to play audio\n",
        "import IPython.display as ipd\n"
      ],
      "execution_count": 0,
      "outputs": []
    },
    {
      "cell_type": "markdown",
      "metadata": {
        "id": "yzHKkTbTCruN",
        "colab_type": "text"
      },
      "source": [
        "Importing the Dataset from kaggle\n",
        "\n",
        "Source: [Respiratory Sound Database](https://www.kaggle.com/vbookshelf/respiratory-sound-database)\n"
      ]
    },
    {
      "cell_type": "code",
      "metadata": {
        "id": "zZ1k9go2L4ce",
        "colab_type": "code",
        "colab": {}
      },
      "source": [
        "import json\n",
        "\n",
        "# read file\n",
        "with open('/content/kaggle (1).json', 'r') as myfile:\n",
        "    data=myfile.read()\n",
        "# parse file\n",
        "obj = json.loads(data)\n",
        "#get username and key\n",
        "kaggle_key = str(obj['key'])\n",
        "kaggle_username = str(obj['username'])\n"
      ],
      "execution_count": 0,
      "outputs": []
    },
    {
      "cell_type": "code",
      "metadata": {
        "id": "8DYtqH2xAngs",
        "colab_type": "code",
        "outputId": "2d385f43-38e3-4988-93bc-b9ef59a89d80",
        "colab": {
          "base_uri": "https://localhost:8080/",
          "height": 34
        }
      },
      "source": [
        "import os\n",
        "\n",
        "# parse file\n",
        "obj = json.loads(data)\n",
        "\n",
        "os.environ['KAGGLE_USERNAME'] = kaggle_username # username from the json file\n",
        "os.environ['KAGGLE_KEY'] = kaggle_key # key from the json file\n",
        "!kaggle datasets download -d \"vbookshelf/respiratory-sound-database\" # api copied from kaggle\n",
        "\n"
      ],
      "execution_count": 5,
      "outputs": [
        {
          "output_type": "stream",
          "text": [
            "respiratory-sound-database.zip: Skipping, found more recently modified local copy (use --force to force download)\n"
          ],
          "name": "stdout"
        }
      ]
    },
    {
      "cell_type": "code",
      "metadata": {
        "id": "qOWXwE2KEWAm",
        "colab_type": "code",
        "colab": {
          "base_uri": "https://localhost:8080/",
          "height": 71
        },
        "outputId": "3301c879-7c5b-41fe-cb3c-80c01fa05ab1"
      },
      "source": [
        "#unzip the folder downloaded from kaggle\n",
        "!unzip 'respiratory-sound-database.zip'"
      ],
      "execution_count": 6,
      "outputs": [
        {
          "output_type": "stream",
          "text": [
            "Archive:  respiratory-sound-database.zip\n",
            "replace Respiratory_Sound_Database/Respiratory_Sound_Database/audio_and_txt_files/101_1b1_Al_sc_Meditron.txt? [y]es, [n]o, [A]ll, [N]one, [r]ename: N\n"
          ],
          "name": "stdout"
        }
      ]
    },
    {
      "cell_type": "markdown",
      "metadata": {
        "id": "ZMrn53JoJWid",
        "colab_type": "text"
      },
      "source": [
        "List Directories available in the Datasets"
      ]
    },
    {
      "cell_type": "code",
      "metadata": {
        "id": "-y54CX36v772",
        "colab_type": "code",
        "outputId": "5fad21de-62e6-4ac1-97a4-7270cb0e6d85",
        "colab": {
          "base_uri": "https://localhost:8080/",
          "height": 85
        }
      },
      "source": [
        "os.listdir(\"/content/respiratory_sound_database/Respiratory_Sound_Database\")"
      ],
      "execution_count": 7,
      "outputs": [
        {
          "output_type": "execute_result",
          "data": {
            "text/plain": [
              "['audio_and_txt_files',\n",
              " 'filename_differences.txt',\n",
              " 'patient_diagnosis.csv',\n",
              " 'filename_format.txt']"
            ]
          },
          "metadata": {
            "tags": []
          },
          "execution_count": 7
        }
      ]
    },
    {
      "cell_type": "markdown",
      "metadata": {
        "id": "tUV_3Pvz6boy",
        "colab_type": "text"
      },
      "source": [
        "# Create a Spectogram\n",
        "\n",
        "Spectrograms are a useful technique for visualising the spectrum of frequencies of a sound and how they vary during a very short period of time."
      ]
    },
    {
      "cell_type": "markdown",
      "metadata": {
        "id": "4dsHdcY70YbM",
        "colab_type": "text"
      },
      "source": [
        "Display of Annotation: A quick look at datasets based on their respiratory cycles, presence or absence of crackles or wheezes."
      ]
    },
    {
      "cell_type": "code",
      "metadata": {
        "id": "cfjtlaj2SUlT",
        "colab_type": "code",
        "outputId": "7e09f50e-ed49-4748-fd28-0aa897bc839b",
        "colab": {
          "base_uri": "https://localhost:8080/",
          "height": 266
        }
      },
      "source": [
        "path = \\\n",
        "'/content/respiratory_sound_database/Respiratory_Sound_Database/audio_and_txt_files/154_2b4_Al_mc_AKGC417L.txt'\n",
        "\n",
        "col_names = ['Beginning_of_respiratory_cycle', 'End_of_respiratory_cycle', 'Presence/absence_of_crackles', 'Presence/absence_of_wheezes']\n",
        "\n",
        "# Respiratory cycle column values are in 'seconds'.\n",
        "# Presence = 1\n",
        "# Absence = 0\n",
        "\n",
        "df_annot = pd.read_csv(path, sep=\"\\t\", header=None, names=col_names)\n",
        "\n",
        "df_annot.head(10)"
      ],
      "execution_count": 8,
      "outputs": [
        {
          "output_type": "execute_result",
          "data": {
            "text/html": [
              "<div>\n",
              "<style scoped>\n",
              "    .dataframe tbody tr th:only-of-type {\n",
              "        vertical-align: middle;\n",
              "    }\n",
              "\n",
              "    .dataframe tbody tr th {\n",
              "        vertical-align: top;\n",
              "    }\n",
              "\n",
              "    .dataframe thead th {\n",
              "        text-align: right;\n",
              "    }\n",
              "</style>\n",
              "<table border=\"1\" class=\"dataframe\">\n",
              "  <thead>\n",
              "    <tr style=\"text-align: right;\">\n",
              "      <th></th>\n",
              "      <th>Beginning_of_respiratory_cycle</th>\n",
              "      <th>End_of_respiratory_cycle</th>\n",
              "      <th>Presence/absence_of_crackles</th>\n",
              "      <th>Presence/absence_of_wheezes</th>\n",
              "    </tr>\n",
              "  </thead>\n",
              "  <tbody>\n",
              "    <tr>\n",
              "      <th>0</th>\n",
              "      <td>1.330</td>\n",
              "      <td>3.804</td>\n",
              "      <td>0</td>\n",
              "      <td>0</td>\n",
              "    </tr>\n",
              "    <tr>\n",
              "      <th>1</th>\n",
              "      <td>3.804</td>\n",
              "      <td>6.396</td>\n",
              "      <td>0</td>\n",
              "      <td>0</td>\n",
              "    </tr>\n",
              "    <tr>\n",
              "      <th>2</th>\n",
              "      <td>6.396</td>\n",
              "      <td>8.938</td>\n",
              "      <td>1</td>\n",
              "      <td>0</td>\n",
              "    </tr>\n",
              "    <tr>\n",
              "      <th>3</th>\n",
              "      <td>8.938</td>\n",
              "      <td>11.580</td>\n",
              "      <td>1</td>\n",
              "      <td>0</td>\n",
              "    </tr>\n",
              "    <tr>\n",
              "      <th>4</th>\n",
              "      <td>11.580</td>\n",
              "      <td>14.072</td>\n",
              "      <td>1</td>\n",
              "      <td>0</td>\n",
              "    </tr>\n",
              "    <tr>\n",
              "      <th>5</th>\n",
              "      <td>14.072</td>\n",
              "      <td>17.049</td>\n",
              "      <td>1</td>\n",
              "      <td>0</td>\n",
              "    </tr>\n",
              "    <tr>\n",
              "      <th>6</th>\n",
              "      <td>17.049</td>\n",
              "      <td>19.490</td>\n",
              "      <td>1</td>\n",
              "      <td>0</td>\n",
              "    </tr>\n",
              "  </tbody>\n",
              "</table>\n",
              "</div>"
            ],
            "text/plain": [
              "   Beginning_of_respiratory_cycle  ...  Presence/absence_of_wheezes\n",
              "0                           1.330  ...                            0\n",
              "1                           3.804  ...                            0\n",
              "2                           6.396  ...                            0\n",
              "3                           8.938  ...                            0\n",
              "4                          11.580  ...                            0\n",
              "5                          14.072  ...                            0\n",
              "6                          17.049  ...                            0\n",
              "\n",
              "[7 rows x 4 columns]"
            ]
          },
          "metadata": {
            "tags": []
          },
          "execution_count": 8
        }
      ]
    },
    {
      "cell_type": "code",
      "metadata": {
        "id": "Rzyf3BQHT52S",
        "colab_type": "code",
        "colab": {}
      },
      "source": [
        "# Define helper functions\n",
        "\n",
        "# Load a .wav file. \n",
        "# These are 24 bit files. The PySoundFile library is able to read 24 bit files.\n",
        "# https://pysoundfile.readthedocs.io/en/0.9.0/\n",
        "\n",
        "def get_wav_info(wav_file_2):\n",
        "    data, rate = sf.read(wav_file_2)\n",
        "    return data, rate\n",
        "\n",
        "# source: Andrew Ng Deep Learning Specialization, Course 5\n",
        "def graph_spectrogram(wav):\n",
        "    data, rate = get_wav_info(wav)\n",
        "    nfft = 200 # Length of each window segment\n",
        "    fs = 8000 # Sampling frequencies\n",
        "    noverlap = 120 # Overlap between windows\n",
        "    nchannels = data.ndim\n",
        "    if nchannels == 1:\n",
        "        pxx, freqs, bins, im = plt.specgram(data, nfft, fs, noverlap = noverlap)\n",
        "    elif nchannels == 2:\n",
        "        pxx, freqs, bins, im = plt.specgram(data[:,0], nfft, fs, noverlap = noverlap)\n",
        "    return pxx"
      ],
      "execution_count": 0,
      "outputs": []
    },
    {
      "cell_type": "code",
      "metadata": {
        "id": "GZ1LNUNIYkb0",
        "colab_type": "code",
        "outputId": "b357e5ce-4b5f-41f0-9b38-ed2586d386b2",
        "colab": {
          "base_uri": "https://localhost:8080/",
          "height": 303
        }
      },
      "source": [
        "#Picking out one sound and viewing the spectrogram\n",
        "path = \\\n",
        "'/content/respiratory_sound_database/Respiratory_Sound_Database/audio_and_txt_files/154_2b4_Al_mc_AKGC417L.wav'\n",
        "x = graph_spectrogram(path)"
      ],
      "execution_count": 10,
      "outputs": [
        {
          "output_type": "stream",
          "text": [
            "/usr/local/lib/python3.6/dist-packages/matplotlib/axes/_axes.py:7581: RuntimeWarning: divide by zero encountered in log10\n",
            "  Z = 10. * np.log10(spec)\n"
          ],
          "name": "stderr"
        },
        {
          "output_type": "display_data",
          "data": {
            "image/png": "[encoded data removed]",
            "text/plain": [
              "<Figure size 432x288 with 1 Axes>"
            ]
          },
          "metadata": {
            "tags": [],
            "needs_background": "light"
          }
        }
      ]
    },
    {
      "cell_type": "code",
      "metadata": {
        "id": "CNuhnWRfjHT9",
        "colab_type": "code",
        "colab": {}
      },
      "source": [
        ""
      ],
      "execution_count": 0,
      "outputs": []
    },
    {
      "cell_type": "code",
      "metadata": {
        "id": "j9ltIyQ-dZF7",
        "colab_type": "code",
        "outputId": "3580ec5d-88f1-4dd5-e3a4-7b473fc548a4",
        "colab": {
          "base_uri": "https://localhost:8080/",
          "height": 351
        }
      },
      "source": [
        "x, sr = librosa.load(path, sr=200)\n",
        "plt.figure(figsize=(14, 5))\n",
        "librosa.display.waveplot(x, sr=sr)"
      ],
      "execution_count": 11,
      "outputs": [
        {
          "output_type": "execute_result",
          "data": {
            "text/plain": [
              "<matplotlib.collections.PolyCollection at 0x7f4d7fd25be0>"
            ]
          },
          "metadata": {
            "tags": []
          },
          "execution_count": 11
        },
        {
          "output_type": "display_data",
          "data": {
            "image/png": "[encoded data removed]",
            "text/plain": [
              "<Figure size 1008x360 with 1 Axes>"
            ]
          },
          "metadata": {
            "tags": [],
            "needs_background": "light"
          }
        }
      ]
    },
    {
      "cell_type": "markdown",
      "metadata": {
        "id": "UOxClIKXw7R7",
        "colab_type": "text"
      },
      "source": [
        "Pre Process Sound"
      ]
    },
    {
      "cell_type": "code",
      "metadata": {
        "id": "mMqTkeKhxJkz",
        "colab_type": "code",
        "colab": {}
      },
      "source": [
        "import os\n",
        "import sys\n",
        "import glob\n",
        "from os.path import dirname as up\n",
        "from tqdm import tqdm\n",
        "from ipywidgets import widgets, interact\n",
        "mf_path = (up(os.getcwd())).replace('\\\\','/')    # Main Folder Path\n",
        "sys.path.insert(1, mf_path)\n",
        "os.chdir(mf_path )\n",
        "\n"
      ],
      "execution_count": 0,
      "outputs": []
    },
    {
      "cell_type": "code",
      "metadata": {
        "id": "JOHs_R1SxA6V",
        "colab_type": "code",
        "colab": {
          "base_uri": "https://localhost:8080/",
          "height": 68
        },
        "outputId": "12ea67b0-7b43-4651-8688-e7d8ba2e42b7"
      },
      "source": [
        "# Initializing Variables\n",
        "sound_list = []\n",
        "sound_reco = []\n",
        "sf_reco = []\n",
        "# Loading Loop\n",
        "for file in tqdm(glob.glob(\"*.wav\")):\n",
        "    sound_list.append(file)\n",
        "    # Loading and resampling sounds to 2kHz with librosa is too slow\n",
        "    data, sfile = sf.read(mf_path +  file)#, sr = 2000)\n",
        "    sound_reco.append(data)\n",
        "    sf_reco.append(sfile)\n",
        "    \n",
        "print(' -----')\n",
        "n_sounds = np.shape(sound_list)[0]\n",
        "print('Number of sound Recordings = ', n_sounds)"
      ],
      "execution_count": 30,
      "outputs": [
        {
          "output_type": "stream",
          "text": [
            "0it [00:00, ?it/s]"
          ],
          "name": "stderr"
        },
        {
          "output_type": "stream",
          "text": [
            " -----\n",
            "Number of sound Recordings =  0\n"
          ],
          "name": "stdout"
        },
        {
          "output_type": "stream",
          "text": [
            "\n"
          ],
          "name": "stderr"
        }
      ]
    },
    {
      "cell_type": "markdown",
      "metadata": {
        "id": "q3SFg5Xi-LU7",
        "colab_type": "text"
      },
      "source": [
        "**Mel Spectogram (MFCC)**\n",
        "\n",
        "For each audio file in the dataset, we will extract an MFCC (meaning we have an image representation for each audio sample0"
      ]
    },
    {
      "cell_type": "code",
      "metadata": {
        "id": "uxuHuUC5ILg3",
        "colab_type": "code",
        "colab": {
          "base_uri": "https://localhost:8080/",
          "height": 197
        },
        "outputId": "cf5db5f3-9ffa-4a39-de38-ee296efcb108"
      },
      "source": [
        "w = widgets.IntSlider(min=0, max=n_sounds, step = 1, value = 10)\n",
        "X = sound_reco[w.value]\n",
        "X = aidt.butter_bp_fil(X, 100, 300, sf)"
      ],
      "execution_count": 14,
      "outputs": [
        {
          "output_type": "error",
          "ename": "IndexError",
          "evalue": "ignored",
          "traceback": [
            "\u001b[0;31m---------------------------------------------------------------------------\u001b[0m",
            "\u001b[0;31mIndexError\u001b[0m                                Traceback (most recent call last)",
            "\u001b[0;32m<ipython-input-14-c2065c39f429>\u001b[0m in \u001b[0;36m<module>\u001b[0;34m()\u001b[0m\n\u001b[1;32m      1\u001b[0m \u001b[0mw\u001b[0m \u001b[0;34m=\u001b[0m \u001b[0mwidgets\u001b[0m\u001b[0;34m.\u001b[0m\u001b[0mIntSlider\u001b[0m\u001b[0;34m(\u001b[0m\u001b[0mmin\u001b[0m\u001b[0;34m=\u001b[0m\u001b[0;36m0\u001b[0m\u001b[0;34m,\u001b[0m \u001b[0mmax\u001b[0m\u001b[0;34m=\u001b[0m\u001b[0mn_sounds\u001b[0m\u001b[0;34m,\u001b[0m \u001b[0mstep\u001b[0m \u001b[0;34m=\u001b[0m \u001b[0;36m1\u001b[0m\u001b[0;34m,\u001b[0m \u001b[0mvalue\u001b[0m \u001b[0;34m=\u001b[0m \u001b[0;36m10\u001b[0m\u001b[0;34m)\u001b[0m\u001b[0;34m\u001b[0m\u001b[0;34m\u001b[0m\u001b[0m\n\u001b[0;32m----> 2\u001b[0;31m \u001b[0mX\u001b[0m \u001b[0;34m=\u001b[0m \u001b[0msound_reco\u001b[0m\u001b[0;34m[\u001b[0m\u001b[0mw\u001b[0m\u001b[0;34m.\u001b[0m\u001b[0mvalue\u001b[0m\u001b[0;34m]\u001b[0m\u001b[0;34m\u001b[0m\u001b[0;34m\u001b[0m\u001b[0m\n\u001b[0m\u001b[1;32m      3\u001b[0m \u001b[0mX\u001b[0m \u001b[0;34m=\u001b[0m \u001b[0maidt\u001b[0m\u001b[0;34m.\u001b[0m\u001b[0mbutter_bp_fil\u001b[0m\u001b[0;34m(\u001b[0m\u001b[0mX\u001b[0m\u001b[0;34m,\u001b[0m \u001b[0;36m100\u001b[0m\u001b[0;34m,\u001b[0m \u001b[0;36m300\u001b[0m\u001b[0;34m,\u001b[0m \u001b[0msf\u001b[0m\u001b[0;34m)\u001b[0m\u001b[0;34m\u001b[0m\u001b[0;34m\u001b[0m\u001b[0m\n",
            "\u001b[0;31mIndexError\u001b[0m: list index out of range"
          ]
        }
      ]
    },
    {
      "cell_type": "code",
      "metadata": {
        "id": "dZehhriX3I8d",
        "colab_type": "code",
        "colab": {}
      },
      "source": [
        "import librosa.display as lbdis\n",
        "# Mel spectrogram\n",
        "Mspec = librosa.feature.melspectrogram(X, sr=sr, n_mels=128)\n",
        "# Convert to log scale (dB)\n",
        "Mspec_db = librosa.power_to_db(Mspec, ref=np.max)\n",
        "# Plotting Mel Spectrogram\n",
        "plt.figure(figsize=(12,4))\n",
        "lbdis.specshow(Mspec_db, sr=sr, x_axis='time', y_axis='mel')\n",
        "plt.title('mel power spectrogram')\n",
        "plt.tight_layout()"
      ],
      "execution_count": 0,
      "outputs": []
    },
    {
      "cell_type": "code",
      "metadata": {
        "id": "yJqXPNbD-7Yy",
        "colab_type": "code",
        "colab": {}
      },
      "source": [
        "# Let's make and display a mel-scaled power (energy-squared) spectrogram\n",
        "S = librosa.feature.melspectrogram(X, sr=sr, n_mels=128)\n",
        "\n",
        "# Convert to log scale (dB). We'll use the peak power (max) as reference.\n",
        "log_S = librosa.power_to_db(S, ref=np.max)\n",
        "\n",
        "# Make a new figure\n",
        "plt.figure(figsize=(12,4))\n",
        "\n",
        "# Display the spectrogram on a mel scale\n",
        "# sample rate and hop length parameters are used to render the time axis\n",
        "librosa.display.specshow(log_S, sr=sr, x_axis='time', y_axis='mel')\n",
        "\n",
        "# Put a descriptive title on the plot\n",
        "plt.title('mel power spectrogram')\n",
        "\n",
        "# draw a color bar\n",
        "plt.colorbar(format='%+02.0f dB')\n",
        "\n",
        "# Make the figure layout compact\n",
        "plt.tight_layout()\n"
      ],
      "execution_count": 0,
      "outputs": []
    },
    {
      "cell_type": "markdown",
      "metadata": {
        "id": "PMKG6tgGpPmy",
        "colab_type": "text"
      },
      "source": [
        "# **[Harmonic-percussive source separation](https://nbviewer.jupyter.org/github/bmcfee/librosa/blob/master/examples/LibROSA%20demo.ipynb)**"
      ]
    },
    {
      "cell_type": "code",
      "metadata": {
        "id": "OuI1CAYKpJGU",
        "colab_type": "code",
        "colab": {}
      },
      "source": [
        "y_harmonic, y_percussive = librosa.effects.hpss(X)"
      ],
      "execution_count": 0,
      "outputs": []
    },
    {
      "cell_type": "code",
      "metadata": {
        "id": "NhrD1CP7o7Bq",
        "colab_type": "code",
        "colab": {}
      },
      "source": [
        "# What do the spectrograms look like?\n",
        "# Let's make and display a mel-scaled power (energy-squared) spectrogram\n",
        "S_harmonic   = librosa.feature.melspectrogram(y_harmonic, sr=sr)\n",
        "S_percussive = librosa.feature.melspectrogram(y_percussive, sr=sr)\n",
        "\n",
        "# Convert to log scale (dB). We'll use the peak power as reference.\n",
        "log_Sh = librosa.power_to_db(S_harmonic, ref=np.max)\n",
        "log_Sp = librosa.power_to_db(S_percussive, ref=np.max)\n",
        "\n",
        "# Make a new figure\n",
        "plt.figure(figsize=(12,6))\n",
        "\n",
        "plt.subplot(2,1,1)\n",
        "# Display the spectrogram on a mel scale\n",
        "librosa.display.specshow(log_Sh, sr=sr, y_axis='mel')\n",
        "\n",
        "# Put a descriptive title on the plot\n",
        "plt.title('mel power spectrogram (Harmonic)')\n",
        "\n",
        "# draw a color bar\n",
        "plt.colorbar(format='%+02.0f dB')\n",
        "\n",
        "plt.subplot(2,1,2)\n",
        "librosa.display.specshow(log_Sp, sr=sr, x_axis='time', y_axis='mel')\n",
        "\n",
        "# Put a descriptive title on the plot\n",
        "plt.title('mel power spectrogram (Percussive)')\n",
        "\n",
        "# draw a color bar\n",
        "plt.colorbar(format='%+02.0f dB')\n",
        "\n",
        "# Make the figure layout compact\n",
        "plt.tight_layout()\n"
      ],
      "execution_count": 0,
      "outputs": []
    },
    {
      "cell_type": "markdown",
      "metadata": {
        "id": "yqwkmqXduDD_",
        "colab_type": "text"
      },
      "source": [
        "\n",
        "Needed Libraries\n",
        "---\n",
        "\n"
      ]
    },
    {
      "cell_type": "code",
      "metadata": {
        "id": "VcNsjgcQtEIN",
        "colab_type": "code",
        "colab": {}
      },
      "source": [
        "import os\n",
        "import sys\n",
        "from os.path import dirname as up"
      ],
      "execution_count": 0,
      "outputs": []
    },
    {
      "cell_type": "markdown",
      "metadata": {
        "id": "NomVJhojuJhn",
        "colab_type": "text"
      },
      "source": [
        ""
      ]
    },
    {
      "cell_type": "code",
      "metadata": {
        "id": "Ed1-oOO6uI0F",
        "colab_type": "code",
        "colab": {}
      },
      "source": [
        "mf_path = (up(os.getcwd())).replace('\\\\','/')    # Main Folder Path\n",
        "sys.path.insert(1, mf_path)\n",
        "os.chdir('/Respiratory_Sound_Database/audio_and_txt_files')\n",
        "lp = mf_path + '/aidiagnostics_labels.csv'\n",
        "lbs = pd.read_csv(lp)                 #  Labels \n",
        "sn = np.array(lbs.columns.values)     #  Names of recordings labelled\n",
        "\n",
        "print('sound labelled: ', sn[0])"
      ],
      "execution_count": 0,
      "outputs": []
    }
  ]
}