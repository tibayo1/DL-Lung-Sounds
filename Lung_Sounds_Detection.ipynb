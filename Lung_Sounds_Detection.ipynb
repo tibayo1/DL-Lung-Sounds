{
  "nbformat": 4,
  "nbformat_minor": 0,
  "metadata": {
    "colab": {
      "name": "Lung-Sounds-Detection.ipynb",
      "provenance": [],
      "authorship_tag": "ABX9TyOrWSgXciNF5wIEhn2+BQVY",
      "include_colab_link": true
    },
    "kernelspec": {
      "name": "python3",
      "display_name": "Python 3"
    },
    "accelerator": "GPU"
  },
  "cells": [
    {
      "cell_type": "markdown",
      "metadata": {
        "id": "view-in-github",
        "colab_type": "text"
      },
      "source": [
        "<a href=\"https://colab.research.google.com/github/tibayo1/DL-Lung-Sounds/blob/master/Lung_Sounds_Detection.ipynb\" target=\"_parent\"><img src=\"https://colab.research.google.com/assets/colab-badge.svg\" alt=\"Open In Colab\"/></a>"
      ]
    },
    {
      "cell_type": "code",
      "metadata": {
        "id": "zZ1k9go2L4ce",
        "colab_type": "code",
        "colab": {}
      },
      "source": [
        "import json\n",
        "\n",
        "# read file\n",
        "with open('/content/kaggle (1).json', 'r') as myfile:\n",
        "    data=myfile.read()\n",
        "# parse file\n",
        "obj = json.loads(data)\n",
        "#get username and key\n",
        "kaggle_key = str(obj['key'])\n",
        "kaggle_username = str(obj['username'])\n"
      ],
      "execution_count": 0,
      "outputs": []
    },
    {
      "cell_type": "code",
      "metadata": {
        "id": "8DYtqH2xAngs",
        "colab_type": "code",
        "outputId": "87c72ecb-4f7c-4aba-8bc2-89337f6f6026",
        "colab": {
          "base_uri": "https://localhost:8080/",
          "height": 68
        }
      },
      "source": [
        "import os\n",
        "\n",
        "# parse file\n",
        "obj = json.loads(data)\n",
        "\n",
        "os.environ['KAGGLE_USERNAME'] = kaggle_username # username from the json file\n",
        "os.environ['KAGGLE_KEY'] = kaggle_key # key from the json file\n",
        "!kaggle datasets download -d \"vbookshelf/respiratory-sound-database\" # api copied from kaggle\n",
        "\n"
      ],
      "execution_count": 0,
      "outputs": [
        {
          "output_type": "stream",
          "text": [
            "Downloading respiratory-sound-database.zip to /content\n",
            "100% 3.68G/3.69G [01:09<00:00, 31.5MB/s]\n",
            "100% 3.69G/3.69G [01:09<00:00, 56.8MB/s]\n"
          ],
          "name": "stdout"
        }
      ]
    },
    {
      "cell_type": "code",
      "metadata": {
        "id": "qOWXwE2KEWAm",
        "colab_type": "code",
        "colab": {}
      },
      "source": [
        "#unzip the folder downloaded from kaggle\n",
        "!unzip 'respiratory-sound-database.zip'"
      ],
      "execution_count": 0,
      "outputs": []
    },
    {
      "cell_type": "code",
      "metadata": {
        "id": "d38uk28ciBIn",
        "colab_type": "code",
        "outputId": "ea8733d9-b254-4fc2-9861-67a265795237",
        "colab": {
          "base_uri": "https://localhost:8080/",
          "height": 34
        }
      },
      "source": [
        "import os\n",
        "import matplotlib.pyplot as plt\n",
        "\n",
        "#for loading and visualizing audio files\n",
        "import librosa\n",
        "import librosa.display\n",
        "\n",
        "#to play audio\n",
        "import IPython.display as ipd\n",
        "\n",
        "audio_fpath = \"/content/\"\n",
        "audio_clips = os.listdir(audio_fpath)\n",
        "print(\"No. of .wav files in audio folder = \",len(audio_clips))\n",
        "\n"
      ],
      "execution_count": 0,
      "outputs": [
        {
          "output_type": "stream",
          "text": [
            "No. of .wav files in audio folder =  7\n"
          ],
          "name": "stdout"
        }
      ]
    },
    {
      "cell_type": "code",
      "metadata": {
        "id": "-y54CX36v772",
        "colab_type": "code",
        "outputId": "05955d2d-4a91-4ae8-d860-589f5f5f1017",
        "colab": {
          "base_uri": "https://localhost:8080/",
          "height": 85
        }
      },
      "source": [
        "os.listdir(\"/content/respiratory_sound_database/Respiratory_Sound_Database\")"
      ],
      "execution_count": 0,
      "outputs": [
        {
          "output_type": "execute_result",
          "data": {
            "text/plain": [
              "['patient_diagnosis.csv',\n",
              " 'filename_differences.txt',\n",
              " 'filename_format.txt',\n",
              " 'audio_and_txt_files']"
            ]
          },
          "metadata": {
            "tags": []
          },
          "execution_count": 9
        }
      ]
    }
  ]
}